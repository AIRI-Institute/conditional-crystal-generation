{
 "cells": [
  {
   "cell_type": "markdown",
   "id": "9a965848-86fd-481b-b348-c56fba38dfcc",
   "metadata": {},
   "source": [
    "### Requirements"
   ]
  },
  {
   "cell_type": "code",
   "execution_count": 10,
   "id": "78cbf336",
   "metadata": {
    "tags": []
   },
   "outputs": [],
   "source": [
    "import os\n",
    "import sys\n",
    "sys.path.append(\"../\")\n",
    "\n",
    "import random\n",
    "import warnings\n",
    "warnings.filterwarnings(\"ignore\")\n",
    "from tqdm import tqdm\n",
    "tqdm.pandas()\n",
    "\n",
    "import torch\n",
    "import numpy as np\n",
    "import pandas as pd\n",
    "import torch.nn as nn\n",
    "import torch.nn.functional as F\n",
    "import matplotlib.pyplot as plt\n",
    "import seaborn as sns\n",
    "import pickle\n",
    "import joblib\n",
    "from IPython.display import clear_output\n",
    "from pymatgen.core import Structure\n",
    "\n",
    "from torch.utils.data import Dataset, random_split, DataLoader\n",
    "from transformers import get_cosine_schedule_with_warmup\n",
    "\n",
    "from src.model.models import CrystalUNetModel\n",
    "from src.generation.generation import generate_flow_matching\n",
    "from src.inference.inference_data_generation import generate_inference_dataset\n",
    "from src.utils import seed_everything"
   ]
  },
  {
   "cell_type": "code",
   "execution_count": 2,
   "id": "c3d8b4d8-a412-46ab-be70-cc24d81911a6",
   "metadata": {},
   "outputs": [],
   "source": [
    "from dataclasses import dataclass\n",
    "\n",
    "\n",
    "@dataclass\n",
    "class InferenceConfig:\n",
    "    # Data\n",
    "    max_nsites = 64\n",
    "    max_elems = 4\n",
    "    min_elems = 2\n",
    "\n",
    "    # Model\n",
    "    model_channels: int = 128\n",
    "    num_res_blocks: int = 7\n",
    "    attention_resolutions=(1, 2, 4, 8)\n",
    "    \n",
    "    # Noise Scheduler\n",
    "    num_inference_steps = 100\n",
    "\n",
    "    # Training\n",
    "    batch_size = 256\n",
    "    num_workers = 1\n",
    "\n",
    "    # Accelerator\n",
    "    mixed_precision = 'fp16'  # `no` for float32, `fp16` for automatic mixed precision\n",
    "\n",
    "    device = \"cuda\"\n",
    "    random_state = 42 \n",
    "\n",
    "\n",
    "config = InferenceConfig()\n",
    "seed_everything(config.random_state)"
   ]
  },
  {
   "cell_type": "code",
   "execution_count": 3,
   "id": "3a24fc04-7e91-4dc2-bfa4-3a549160e211",
   "metadata": {
    "tags": []
   },
   "outputs": [],
   "source": [
    "PATH = \"../FTCP_data/\""
   ]
  },
  {
   "cell_type": "code",
   "execution_count": 17,
   "id": "402bdcd8-9d39-4f3a-b589-0d06b9b8a0d2",
   "metadata": {},
   "outputs": [
    {
     "data": {
      "text/plain": [
       "(    pretty_formula  spacegroup_relax  enthalpy_formation_atom\n",
       " 0          Ta1W1B6                 6                  -1.3993\n",
       " 1          Ta1W1B6                 6                  -1.4093\n",
       " 2          Ta1W1B6                 6                  -1.4193\n",
       " 3          Ta1W1B6                 6                  -1.4293\n",
       " 4          Ta1W1B6                 6                  -1.4393\n",
       " ..             ...               ...                      ...\n",
       " 394        Ta1W1B6               225                  -1.5593\n",
       " 395        Ta1W1B6               225                  -1.5693\n",
       " 396        Ta1W1B6               225                  -1.5793\n",
       " 397        Ta1W1B6               225                  -1.5893\n",
       " 398        Ta1W1B6               225                  -1.5993\n",
       " \n",
       " [399 rows x 3 columns],\n",
       " <src.inference.inference_data_generation.InferenceCrystalDataset at 0x7f1ae23f1b50>,\n",
       " 399)"
      ]
     },
     "execution_count": 17,
     "metadata": {},
     "output_type": "execute_result"
    }
   ],
   "source": [
    "spgs = [  6,   8,  10,  12,  25,  35,  44,  47,  65,  71,  99, 119, 123, 129, 139, 160, 166, 216, 225]\n",
    "formula = \"Ta1W1B6\"\n",
    "step = -0.01\n",
    "start = -0.3993 - 1\n",
    "n = 20\n",
    "\n",
    "df, inferece_dataset = generate_inference_dataset(\n",
    "        formula,\n",
    "        spgs,\n",
    "        step,\n",
    "        start,\n",
    "        n,\n",
    "        return_df=True,\n",
    "        data_path=\"../src/data/\"\n",
    ")\n",
    "\n",
    "df, inferece_dataset, len(inferece_dataset)"
   ]
  },
  {
   "cell_type": "code",
   "execution_count": 8,
   "id": "8f2dd42d-daad-4e45-92e9-a9be5b3517db",
   "metadata": {},
   "outputs": [
    {
     "data": {
      "text/plain": [
       "2"
      ]
     },
     "execution_count": 8,
     "metadata": {},
     "output_type": "execute_result"
    }
   ],
   "source": [
    "dataloader = DataLoader(inferece_dataset, batch_size=config.batch_size, num_workers=config.num_workers, shuffle=False)\n",
    "len(dataloader)"
   ]
  },
  {
   "cell_type": "markdown",
   "id": "7eb3a456",
   "metadata": {
    "tags": []
   },
   "source": [
    "### Model training"
   ]
  },
  {
   "cell_type": "code",
   "execution_count": 9,
   "id": "29fd89b4-7387-4891-86ba-d1cc5060ed00",
   "metadata": {},
   "outputs": [],
   "source": [
    "model = CrystalUNetModel(\n",
    "    in_channels=3, # should be equal to num_features (input features) \n",
    "    dims=1, #this states, that we are using 1D U-Net\n",
    "    condition_dims=1 + 256 + 256, # num_condition_features 256 - is size of spacegroups condition\n",
    "    model_channels=config.model_channels, # inner model features\n",
    "    out_channels=3, # should be equal to num_features (input features) \n",
    "    num_res_blocks=config.num_res_blocks, # idk\n",
    "    attention_resolutions=config.attention_resolutions\n",
    ")\n",
    "model.to(config.device)"
   ]
  },
  {
   "cell_type": "code",
   "execution_count": 89,
   "id": "f53118bd-eca0-4877-8948-d98edf2d9926",
   "metadata": {},
   "outputs": [
    {
     "data": {
      "text/plain": [
       "<All keys matched successfully>"
      ]
     },
     "execution_count": 89,
     "metadata": {},
     "output_type": "execute_result"
    }
   ],
   "source": [
    "model.load_state_dict(torch.load(\"<PATH TO YOU WEIGHTS>\"))"
   ]
  },
  {
   "cell_type": "code",
   "execution_count": 91,
   "id": "a8c97eda-27a2-4409-8929-6bb10fd3d852",
   "metadata": {},
   "outputs": [
    {
     "name": "stderr",
     "output_type": "stream",
     "text": [
      "WARNING:accelerate.utils.other:Detected kernel version 5.4.0, which is below the recommended minimum of 5.5.0; this can cause the process to hang. It is recommended to upgrade the kernel to the minimum version or higher.\n"
     ]
    }
   ],
   "source": [
    "from accelerate import Accelerator\n",
    "\n",
    "accelerator = Accelerator(\n",
    "    mixed_precision=config.mixed_precision,\n",
    "s)\n",
    "\n",
    "dataloader, model = accelerator.prepare(\n",
    "    dataloader, model\n",
    ")"
   ]
  },
  {
   "cell_type": "code",
   "execution_count": 11,
   "id": "1518fbdb-5456-46b0-bda6-30958d025e18",
   "metadata": {},
   "outputs": [
    {
     "name": "stderr",
     "output_type": "stream",
     "text": [
      "100%|███████████████████████████████████████████████████████████████████████████████████████████████████████████████████████████████████████████████████████████████████████████| 2/2 [00:55<00:00, 27.72s/it]\n"
     ]
    }
   ],
   "source": [
    "lattice_size = 3\n",
    "\n",
    "atoms_generated = []\n",
    "\n",
    "lattice_generated = []\n",
    "\n",
    "n_sites_dataset = []\n",
    "conditions = []\n",
    "\n",
    "elements_dataset = []\n",
    "\n",
    "x1_energies = []\n",
    "\n",
    "\n",
    "model.eval()\n",
    "for batch in tqdm(dataloader):\n",
    "    # get needed features\n",
    "    element_matrix = batch[\"element_matrix\"]\n",
    "    elemental_property_matrix = batch[\"elemental_property_matrix\"]\n",
    "    spg = batch[\"spg\"]\n",
    "\n",
    "    x1_energy = batch[\"energy\"]\n",
    "    condition = batch[\"energy\"]\n",
    "    n_sites = batch[\"n_sites\"]\n",
    "    (\n",
    "        element_matrix,\n",
    "        elemental_property_matrix,\n",
    "        condition,\n",
    "        spg,\n",
    "    ) = (\n",
    "        element_matrix.to(config.device),\n",
    "        elemental_property_matrix.to(config.device),\n",
    "        condition.to(config.device),\n",
    "        spg.to(config.device),\n",
    "    )\n",
    "    \n",
    "    x_0_coords = torch.rand((element_matrix.shape[0], 64, 3)).to(config.device)\n",
    "\n",
    "    with torch.no_grad():\n",
    "        output = generate_flow_matching(\n",
    "            model=model, \n",
    "            x_0=x_0_coords,\n",
    "            elements=torch.cat([element_matrix, elemental_property_matrix], dim=-1), \n",
    "            y=condition, \n",
    "            spg=spg\n",
    "        )\n",
    "        output = output.cpu()\n",
    "        coords_pred, lattice_pred = output[:, :-4], output[:, -3:]\n",
    "\n",
    "    atoms_generated.append(coords_pred.cpu())\n",
    "    lattice_generated.append(lattice_pred.cpu())\n",
    "    n_sites_dataset.append(n_sites.cpu())\n",
    "    conditions.append(condition.cpu())\n",
    "    elements_dataset.append(element_matrix)\n",
    "    x1_energies.append(x1_energy)"
   ]
  },
  {
   "cell_type": "code",
   "execution_count": 12,
   "id": "1cc114a4-d34b-4f95-a17e-0ed062281e71",
   "metadata": {},
   "outputs": [],
   "source": [
    "atoms_generated = torch.vstack(atoms_generated).detach().cpu().numpy()\n",
    "lattice_generated = torch.vstack(lattice_generated).detach().cpu().numpy()\n",
    "n_sites_dataset = torch.cat(n_sites_dataset).detach().cpu().numpy()\n",
    "conditions_dataset = torch.cat(conditions).detach().cpu().numpy()\n",
    "\n",
    "elements_dataset = torch.vstack(elements_dataset).detach().cpu().numpy()\n",
    "x1_energies = torch.cat(x1_energies).detach().cpu().numpy()"
   ]
  },
  {
   "cell_type": "code",
   "execution_count": 14,
   "id": "ba2668f1-0246-4920-8042-bd5b2614bf62",
   "metadata": {},
   "outputs": [
    {
     "data": {
      "application/vnd.jupyter.widget-view+json": {
       "model_id": "6dab94a1abce4c4ea3dc05bf98ec2845",
       "version_major": 2,
       "version_minor": 0
      },
      "text/plain": [
       "  0%|          | 0/399 [00:00<?, ?it/s]"
      ]
     },
     "metadata": {},
     "output_type": "display_data"
    }
   ],
   "source": [
    "import joblib\n",
    "from joblib import Parallel, delayed\n",
    "from tqdm.auto import tqdm\n",
    "from pymatgen.core import Structure\n",
    "\n",
    "elm_str = np.array(joblib.load(\"../src/data/element.pkl\"))\n",
    "\n",
    "\n",
    "def form_up_structure(one_hot_vectors, coordinates_input, lattice):\n",
    "    pred_elm = np.argmax(one_hot_vectors, axis=1)\n",
    "    pred_elm = elm_str[pred_elm]\n",
    "    struct = Structure(lattice=lattice, species=pred_elm, coords=coordinates_input)\n",
    "    return struct\n",
    "\n",
    "\n",
    "indexes_to_make = np.arange(0, len(atoms_generated))\n",
    "n_jobs = -1\n",
    "\n",
    "pred_structures = Parallel(n_jobs=n_jobs)(\n",
    "    delayed(form_up_structure)(\n",
    "        elements_dataset[i, : n_sites_dataset[i]],\n",
    "        atoms_generated[i][: n_sites_dataset[i]],\n",
    "        lattice_generated[i],\n",
    "    )\n",
    "    for i in tqdm(indexes_to_make)\n",
    ")"
   ]
  },
  {
   "cell_type": "code",
   "execution_count": 15,
   "id": "8e9d0794-8063-4e84-baf1-00c603887e76",
   "metadata": {
    "scrolled": true
   },
   "outputs": [
    {
     "name": "stdout",
     "output_type": "stream",
     "text": [
      "# generated using pymatgen\n",
      "data_TaB6W\n",
      "_symmetry_space_group_name_H-M   'P 1'\n",
      "_cell_length_a   1.18432812\n",
      "_cell_length_b   1.27582713\n",
      "_cell_length_c   1.58220721\n",
      "_cell_angle_alpha   19.73436688\n",
      "_cell_angle_beta   25.54272155\n",
      "_cell_angle_gamma   40.66773320\n",
      "_symmetry_Int_Tables_number   1\n",
      "_chemical_formula_structural   TaB6W\n",
      "_chemical_formula_sum   'Ta1 B6 W1'\n",
      "_cell_volume   0.27214356\n",
      "_cell_formula_units_Z   1\n",
      "loop_\n",
      " _symmetry_equiv_pos_site_id\n",
      " _symmetry_equiv_pos_as_xyz\n",
      "  1  'x, y, z'\n",
      "loop_\n",
      " _atom_site_type_symbol\n",
      " _atom_site_label\n",
      " _atom_site_symmetry_multiplicity\n",
      " _atom_site_fract_x\n",
      " _atom_site_fract_y\n",
      " _atom_site_fract_z\n",
      " _atom_site_occupancy\n",
      "  Ta  Ta0  1  0.40026242  0.95760769  0.34409249  1\n",
      "  W  W1  1  0.39408988  0.68887502  0.38228828  1\n",
      "  B  B2  1  0.96303838  0.11065894  0.85282624  1\n",
      "  B  B3  1  0.61693215  0.36806053  0.58974373  1\n",
      "  B  B4  1  0.68762112  0.75708807  0.17701656  1\n",
      "  B  B5  1  0.08370835  0.18364733  0.92428225  1\n",
      "  B  B6  1  0.34738821  0.63867259  0.81188256  1\n",
      "  B  B7  1  0.93940961  0.40974754  0.99212795  1\n",
      "\n"
     ]
    }
   ],
   "source": [
    "cifs = [structure.to(fmt='cif')  for structure in pred_structures]\n",
    "print(cifs[-1])"
   ]
  },
  {
   "cell_type": "code",
   "execution_count": 18,
   "id": "65c1bcc7-7d63-4e4c-b797-40aaaa453e59",
   "metadata": {},
   "outputs": [
    {
     "data": {
      "text/html": [
       "<div>\n",
       "<style scoped>\n",
       "    .dataframe tbody tr th:only-of-type {\n",
       "        vertical-align: middle;\n",
       "    }\n",
       "\n",
       "    .dataframe tbody tr th {\n",
       "        vertical-align: top;\n",
       "    }\n",
       "\n",
       "    .dataframe thead th {\n",
       "        text-align: right;\n",
       "    }\n",
       "</style>\n",
       "<table border=\"1\" class=\"dataframe\">\n",
       "  <thead>\n",
       "    <tr style=\"text-align: right;\">\n",
       "      <th></th>\n",
       "      <th>pretty_formula</th>\n",
       "      <th>spacegroup_relax</th>\n",
       "      <th>enthalpy_formation_atom</th>\n",
       "      <th>cif</th>\n",
       "    </tr>\n",
       "  </thead>\n",
       "  <tbody>\n",
       "    <tr>\n",
       "      <th>0</th>\n",
       "      <td>Ta1W1B6</td>\n",
       "      <td>6</td>\n",
       "      <td>-1.3993</td>\n",
       "      <td># generated using pymatgen\\ndata_TaB6W\\n_symme...</td>\n",
       "    </tr>\n",
       "    <tr>\n",
       "      <th>1</th>\n",
       "      <td>Ta1W1B6</td>\n",
       "      <td>6</td>\n",
       "      <td>-1.4093</td>\n",
       "      <td># generated using pymatgen\\ndata_TaB6W\\n_symme...</td>\n",
       "    </tr>\n",
       "    <tr>\n",
       "      <th>2</th>\n",
       "      <td>Ta1W1B6</td>\n",
       "      <td>6</td>\n",
       "      <td>-1.4193</td>\n",
       "      <td># generated using pymatgen\\ndata_TaB6W\\n_symme...</td>\n",
       "    </tr>\n",
       "    <tr>\n",
       "      <th>3</th>\n",
       "      <td>Ta1W1B6</td>\n",
       "      <td>6</td>\n",
       "      <td>-1.4293</td>\n",
       "      <td># generated using pymatgen\\ndata_TaB6W\\n_symme...</td>\n",
       "    </tr>\n",
       "    <tr>\n",
       "      <th>4</th>\n",
       "      <td>Ta1W1B6</td>\n",
       "      <td>6</td>\n",
       "      <td>-1.4393</td>\n",
       "      <td># generated using pymatgen\\ndata_TaB6W\\n_symme...</td>\n",
       "    </tr>\n",
       "    <tr>\n",
       "      <th>...</th>\n",
       "      <td>...</td>\n",
       "      <td>...</td>\n",
       "      <td>...</td>\n",
       "      <td>...</td>\n",
       "    </tr>\n",
       "    <tr>\n",
       "      <th>394</th>\n",
       "      <td>Ta1W1B6</td>\n",
       "      <td>225</td>\n",
       "      <td>-1.5593</td>\n",
       "      <td># generated using pymatgen\\ndata_TaB6W\\n_symme...</td>\n",
       "    </tr>\n",
       "    <tr>\n",
       "      <th>395</th>\n",
       "      <td>Ta1W1B6</td>\n",
       "      <td>225</td>\n",
       "      <td>-1.5693</td>\n",
       "      <td># generated using pymatgen\\ndata_TaB6W\\n_symme...</td>\n",
       "    </tr>\n",
       "    <tr>\n",
       "      <th>396</th>\n",
       "      <td>Ta1W1B6</td>\n",
       "      <td>225</td>\n",
       "      <td>-1.5793</td>\n",
       "      <td># generated using pymatgen\\ndata_TaB6W\\n_symme...</td>\n",
       "    </tr>\n",
       "    <tr>\n",
       "      <th>397</th>\n",
       "      <td>Ta1W1B6</td>\n",
       "      <td>225</td>\n",
       "      <td>-1.5893</td>\n",
       "      <td># generated using pymatgen\\ndata_TaB6W\\n_symme...</td>\n",
       "    </tr>\n",
       "    <tr>\n",
       "      <th>398</th>\n",
       "      <td>Ta1W1B6</td>\n",
       "      <td>225</td>\n",
       "      <td>-1.5993</td>\n",
       "      <td># generated using pymatgen\\ndata_TaB6W\\n_symme...</td>\n",
       "    </tr>\n",
       "  </tbody>\n",
       "</table>\n",
       "<p>399 rows × 4 columns</p>\n",
       "</div>"
      ],
      "text/plain": [
       "    pretty_formula  spacegroup_relax  enthalpy_formation_atom  \\\n",
       "0          Ta1W1B6                 6                  -1.3993   \n",
       "1          Ta1W1B6                 6                  -1.4093   \n",
       "2          Ta1W1B6                 6                  -1.4193   \n",
       "3          Ta1W1B6                 6                  -1.4293   \n",
       "4          Ta1W1B6                 6                  -1.4393   \n",
       "..             ...               ...                      ...   \n",
       "394        Ta1W1B6               225                  -1.5593   \n",
       "395        Ta1W1B6               225                  -1.5693   \n",
       "396        Ta1W1B6               225                  -1.5793   \n",
       "397        Ta1W1B6               225                  -1.5893   \n",
       "398        Ta1W1B6               225                  -1.5993   \n",
       "\n",
       "                                                   cif  \n",
       "0    # generated using pymatgen\\ndata_TaB6W\\n_symme...  \n",
       "1    # generated using pymatgen\\ndata_TaB6W\\n_symme...  \n",
       "2    # generated using pymatgen\\ndata_TaB6W\\n_symme...  \n",
       "3    # generated using pymatgen\\ndata_TaB6W\\n_symme...  \n",
       "4    # generated using pymatgen\\ndata_TaB6W\\n_symme...  \n",
       "..                                                 ...  \n",
       "394  # generated using pymatgen\\ndata_TaB6W\\n_symme...  \n",
       "395  # generated using pymatgen\\ndata_TaB6W\\n_symme...  \n",
       "396  # generated using pymatgen\\ndata_TaB6W\\n_symme...  \n",
       "397  # generated using pymatgen\\ndata_TaB6W\\n_symme...  \n",
       "398  # generated using pymatgen\\ndata_TaB6W\\n_symme...  \n",
       "\n",
       "[399 rows x 4 columns]"
      ]
     },
     "execution_count": 18,
     "metadata": {},
     "output_type": "execute_result"
    }
   ],
   "source": [
    "df[\"cif\"] = cifs\n",
    "df"
   ]
  },
  {
   "cell_type": "code",
   "execution_count": 98,
   "id": "513879e9-e3b5-4863-aadf-d5467888fe6b",
   "metadata": {},
   "outputs": [],
   "source": [
    "df.to_csv(f\"<FILENAME>.csv\", index=False)"
   ]
  },
  {
   "cell_type": "code",
   "execution_count": null,
   "id": "b3de415d-6949-44ce-87e5-ce83eedcab3d",
   "metadata": {},
   "outputs": [],
   "source": []
  }
 ],
 "metadata": {
  "kernelspec": {
   "display_name": "Python 3 (ipykernel)",
   "language": "python",
   "name": "python3"
  },
  "language_info": {
   "codemirror_mode": {
    "name": "ipython",
    "version": 3
   },
   "file_extension": ".py",
   "mimetype": "text/x-python",
   "name": "python",
   "nbconvert_exporter": "python",
   "pygments_lexer": "ipython3",
   "version": "3.11.5"
  }
 },
 "nbformat": 4,
 "nbformat_minor": 5
}
