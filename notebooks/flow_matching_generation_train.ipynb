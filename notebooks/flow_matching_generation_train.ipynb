{
 "cells": [
  {
   "cell_type": "code",
   "execution_count": 2,
   "id": "8ed2c907-64c8-4cd1-ac63-64b1f20fb6a3",
   "metadata": {},
   "outputs": [],
   "source": [
    "from dataclasses import dataclass\n",
    "\n",
    "\n",
    "@dataclass\n",
    "class TrainingConfig:\n",
    "    # Data\n",
    "    max_nsites = 64\n",
    "    max_elems = 4\n",
    "    min_elems = 2\n",
    "\n",
    "    # Model\n",
    "    model_channels: int = 128\n",
    "    num_res_blocks: int = 7\n",
    "    attention_resolutions=(1, 2, 4, 8)\n",
    "\n",
    "    # Loss\n",
    "    coords_loss_coef = 0.5\n",
    "    lattice_loss_coef = 0.5\n",
    "    \n",
    "    # Noise Scheduler\n",
    "    num_inference_steps = 100\n",
    "    noise_type = \"normal\"\n",
    "\n",
    "    # Training\n",
    "    batch_size = 256\n",
    "    epochs = 500\n",
    "    learning_rate = 1e-4\n",
    "    lr_warmup_steps = 500\n",
    "    num_workers = 1\n",
    "\n",
    "    # Accelerator\n",
    "    gradient_accumulation_steps = 1\n",
    "    mixed_precision = 'fp16'  # `no` for float32, `fp16` for automatic mixed precision\n",
    "\n",
    "    device = \"cuda\"\n",
    "    random_state = 42 \n",
    "\n",
    "\n",
    "config = TrainingConfig()\n",
    "seed_everything(config.random_state)"
   ]
  },
  {
   "cell_type": "markdown",
   "id": "6e1573de",
   "metadata": {
    "tags": []
   },
   "source": [
    "### Data initialization"
   ]
  },
  {
   "cell_type": "code",
   "execution_count": 3,
   "id": "3a24fc04-7e91-4dc2-bfa4-3a549160e211",
   "metadata": {
    "tags": []
   },
   "outputs": [],
   "source": [
    "PATH = \"/home/lazarev/MaterialsDesign/FTCP_data/\"\n",
    "tag = \"aflow_database_nsites_4_60\"\n",
    "dataset_path = PATH + f\"datasets/{tag}/dataframe.csv\""
   ]
  },
  {
   "cell_type": "code",
   "execution_count": 4,
   "id": "6cec35c0-5dc9-4b00-94bd-65c0a9aeb14e",
   "metadata": {},
   "outputs": [
    {
     "data": {
      "text/plain": [
       "(3043398, 19)"
      ]
     },
     "execution_count": 4,
     "metadata": {},
     "output_type": "execute_result"
    }
   ],
   "source": [
    "dataset_df = pd.read_csv(dataset_path)\n",
    "dataset_df.shape"
   ]
  },
  {
   "cell_type": "code",
   "execution_count": 5,
   "id": "a9efc03c-04a7-4fe9-a48f-40d275ddb71e",
   "metadata": {},
   "outputs": [
    {
     "name": "stdout",
     "output_type": "stream",
     "text": [
      "Train/test structures df size ratio : 15.10869\n",
      "Elements absolute difference: 0.12579\n"
     ]
    },
    {
     "data": {
      "text/plain": [
       "(446726, 41345)"
      ]
     },
     "execution_count": 5,
     "metadata": {},
     "output_type": "execute_result"
    }
   ],
   "source": [
    "train_formulas, test_formulas = train_test_split_with_chemical_balance(\n",
    "    dataset_df, \n",
    "    test_size=0.05,\n",
    "    verbose=True\n",
    ")\n",
    "\n",
    "len(train_formulas), len(test_formulas)"
   ]
  },
  {
   "cell_type": "code",
   "execution_count": 6,
   "id": "9d2e9241-b165-4f53-9599-ef2444383d4c",
   "metadata": {},
   "outputs": [
    {
     "name": "stdout",
     "output_type": "stream",
     "text": [
      "shape before processing: (3041403, 19)\n",
      "shape after processing: (3041309, 19)\n"
     ]
    },
    {
     "name": "stderr",
     "output_type": "stream",
     "text": [
      "Converting lattice: 100%|█████████████████████████████████████████████████████████████████████████████████████████████████████████████████████████████████████████| 2852477/2852477 [05:58<00:00, 7950.51it/s]\n",
      "Converting lattice: 100%|█████████████████████████████████████████████████████████████████████████████████████████████████████████████████████████████████████████████| 41344/41344 [00:05<00:00, 7695.01it/s]\n"
     ]
    }
   ],
   "source": [
    "test_dataset, train_dataset, test_dataloader, train_dataloader = get_balanced_dataloaders_non_pairs(\n",
    "    dataset_df,\n",
    "    train_formulas=train_formulas, \n",
    "    test_formulas=test_formulas,\n",
    "    avg_structures_per_group=1,\n",
    "    sampling_strategy='train_good_nsites_balaned',\n",
    "    top_k_good=2,\n",
    "    batch_size=config.batch_size,\n",
    "    num_workers=config.num_workers,\n",
    "    min_polymorphs=0.5\n",
    ")"
   ]
  },
  {
   "cell_type": "markdown",
   "id": "7eb3a456",
   "metadata": {
    "tags": []
   },
   "source": [
    "### Model training"
   ]
  },
  {
   "cell_type": "code",
   "execution_count": 7,
   "id": "73a39f94",
   "metadata": {
    "tags": []
   },
   "outputs": [],
   "source": [
    "model = CrystalUNetModel(\n",
    "    in_channels=3, # should be equal to num_features (input features) (atomic coordinares)\n",
    "    dims=1, #this states, that we are using 1D U-Net\n",
    "    condition_dims=1 + 256 + 256, # num_condition_features 256 - is size of elements condition\n",
    "    model_channels=config.model_channels, # inner model features\n",
    "    out_channels=3, # should be equal to num_features (input features) (atomic coordinares)\n",
    "    num_res_blocks=config.num_res_blocks,\n",
    "    attention_resolutions=config.attention_resolutions\n",
    ")\n",
    "\n",
    "model.to(config.device)\n",
    "\n",
    "optimizer = torch.optim.Adam(model.parameters(), lr=config.learning_rate)\n",
    "\n",
    "total_steps = int(len(train_dataloader) * config.epochs)\n",
    "scheduler = get_cosine_schedule_with_warmup(optimizer, \n",
    "                                    num_warmup_steps = config.lr_warmup_steps, # Default value in run_glue.py\n",
    "                                    num_training_steps = total_steps)"
   ]
  },
  {
   "cell_type": "code",
   "execution_count": 8,
   "id": "2127d37e-e67b-40c5-8b7b-000a64e082a8",
   "metadata": {},
   "outputs": [
    {
     "name": "stderr",
     "output_type": "stream",
     "text": [
      "Detected kernel version 5.4.0, which is below the recommended minimum of 5.5.0; this can cause the process to hang. It is recommended to upgrade the kernel to the minimum version or higher.\n"
     ]
    }
   ],
   "source": [
    "from accelerate import Accelerator\n",
    "\n",
    "accelerator = Accelerator(\n",
    "    mixed_precision=config.mixed_precision,\n",
    "    gradient_accumulation_steps=config.gradient_accumulation_steps, \n",
    ")\n",
    "\n",
    "train_dataloader, test_dataloader, model, optimizer, scheduler = accelerator.prepare(\n",
    "    train_dataloader, test_dataloader, model, optimizer, scheduler\n",
    ")"
   ]
  },
  {
   "cell_type": "code",
   "execution_count": null,
   "id": "633997af",
   "metadata": {
    "scrolled": true,
    "tags": []
   },
   "outputs": [
    {
     "name": "stderr",
     "output_type": "stream",
     "text": [
      "  0%|                                                                                                                                                                                 | 0/500 [00:00<?, ?it/s]\n",
      "  0%|                                                                                                                                                                               | 0/11143 [00:00<?, ?it/s]\u001b[A"
     ]
    }
   ],
   "source": [
    "train(\n",
    "    model=model,\n",
    "    optimizer=optimizer,\n",
    "    loss_function=flow_matching_loss,\n",
    "    metric_function=l1_loss,\n",
    "    comparator=PymatgenComparator(elm_str_path='../src/data/element.pkl'),\n",
    "    coords_loss_coef=config.coords_loss_coef,\n",
    "    lattice_loss_coef=config.lattice_loss_coef,\n",
    "    epochs=config.epochs,\n",
    "    train_dataloader=train_dataloader,\n",
    "    eval_dataloader=test_dataset,\n",
    "    scheduler=scheduler,\n",
    "    accelerator=accelerator,\n",
    "    noise_type=config.noise_type,\n",
    "    lattice_size=3,\n",
    "    device=config.device,\n",
    "    eval_every_n=5,\n",
    ")"
   ]
  }
 ],
 "metadata": {
  "kernelspec": {
   "display_name": "Python 3 (ipykernel)",
   "language": "python",
   "name": "python3"
  },
  "language_info": {
   "codemirror_mode": {
    "name": "ipython",
    "version": 3
   },
   "file_extension": ".py",
   "mimetype": "text/x-python",
   "name": "python",
   "nbconvert_exporter": "python",
   "pygments_lexer": "ipython3",
   "version": "3.11.5"
  }
 },
 "nbformat": 4,
 "nbformat_minor": 5
}
