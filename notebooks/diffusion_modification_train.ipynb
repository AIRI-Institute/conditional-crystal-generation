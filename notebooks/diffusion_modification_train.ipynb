{
 "cells": [
  {
   "cell_type": "code",
   "execution_count": 16,
   "id": "78cbf336",
   "metadata": {
    "tags": []
   },
   "outputs": [],
   "source": [
    "import os\n",
    "import sys\n",
    "sys.path.append(\"../\")\n",
    "\n",
    "import random\n",
    "import warnings\n",
    "warnings.filterwarnings(\"ignore\")\n",
    "from tqdm import tqdm\n",
    "tqdm.pandas()\n",
    "\n",
    "import torch\n",
    "import numpy as np\n",
    "import pandas as pd\n",
    "import torch.nn as nn\n",
    "import torch.nn.functional as F\n",
    "import matplotlib.pyplot as plt\n",
    "import seaborn as sns\n",
    "import pickle\n",
    "import joblib\n",
    "from IPython.display import clear_output\n",
    "from pymatgen.core import Structure\n",
    "\n",
    "from torch.utils.data import Dataset, random_split\n",
    "from transformers import get_cosine_schedule_with_warmup\n",
    "from diffusers import DDPMScheduler\n",
    "\n",
    "from src.model.models import CrystalUNetModelX0Condition\n",
    "from src.modification.diffusion_modification_loops import train\n",
    "from src.py_utils.crystal_dataset import CrystalDataset\n",
    "from src.losses import diffusion_modification_loss, l1_loss\n",
    "from src.py_utils.comparator import PymatgenComparator\n",
    "from src.py_utils.sampler import get_dataloaders_pairs, filter_polymorphs, get_balanced_dataloaders_pairs, get_balanced_dataloaders_non_pairs, filter_polymorphs\n",
    "from src.py_utils.stratified_splitter import train_test_split_with_chemical_balance\n",
    "from src.utils import seed_everything"
   ]
  },
  {
   "cell_type": "code",
   "execution_count": 2,
   "id": "8ed2c907-64c8-4cd1-ac63-64b1f20fb6a3",
   "metadata": {},
   "outputs": [],
   "source": [
    "from dataclasses import dataclass\n",
    "\n",
    "\n",
    "@dataclass\n",
    "class TrainingConfig:\n",
    "    # Data\n",
    "    max_nsites = 64\n",
    "    max_elems = 4\n",
    "    min_elems = 2\n",
    "\n",
    "    # Model\n",
    "    model_channels: int = 128\n",
    "    num_res_blocks: int = 7\n",
    "    attention_resolutions=(1, 2, 4, 8)\n",
    "\n",
    "    # Loss\n",
    "    coords_loss_coef = 0.5\n",
    "    lattice_loss_coef = 0.5\n",
    "    \n",
    "    # Noise Scheduler\n",
    "    num_train_timesteps = 1_000\n",
    "    num_inference_steps = 100\n",
    "    beta_start = 0.0001\n",
    "    beta_end = 0.02\n",
    "    beta_schedule = \"squaredcos_cap_v2\" \n",
    "\n",
    "    # Training\n",
    "    batch_size = 256\n",
    "    epochs = 500\n",
    "    learning_rate = 1e-4\n",
    "    lr_warmup_steps = 500\n",
    "    num_workers = 4\n",
    "\n",
    "    # Accelerator\n",
    "    gradient_accumulation_steps = 1\n",
    "    mixed_precision = 'fp16'  # `no` for float32, `fp16` for automatic mixed precision\n",
    "\n",
    "    device = \"cuda\"\n",
    "    random_state = 42 \n",
    "\n",
    "\n",
    "config = TrainingConfig()\n",
    "seed_everything(config.random_state)"
   ]
  },
  {
   "cell_type": "markdown",
   "id": "6e1573de",
   "metadata": {
    "tags": []
   },
   "source": [
    "### Data initialization"
   ]
  },
  {
   "cell_type": "code",
   "execution_count": 3,
   "id": "3a24fc04-7e91-4dc2-bfa4-3a549160e211",
   "metadata": {
    "tags": []
   },
   "outputs": [
    {
     "data": {
      "text/plain": [
       "(3043398, 19)"
      ]
     },
     "execution_count": 3,
     "metadata": {},
     "output_type": "execute_result"
    }
   ],
   "source": [
    "PATH = \"/home/lazarev/MaterialsDesign/FTCP_data/\"\n",
    "tag = \"aflow_database_nsites_4_60\"\n",
    "dataset_path = PATH + f\"datasets/{tag}/dataframe.csv\"\n",
    "\n",
    "dataset_df = pd.read_csv(dataset_path)\n",
    "dataset_df.shape"
   ]
  },
  {
   "cell_type": "code",
   "execution_count": 4,
   "id": "c9b25d4d-dc49-4087-8f9e-06d081e4d568",
   "metadata": {},
   "outputs": [],
   "source": [
    "# num_polymorphs = dataset_df.groupby(\"pretty_formula\").count()[\"auid\"]\n",
    "# needed_formulas = num_polymorphs[num_polymorphs > 1].index\n",
    "# dataset_df = dataset_df[dataset_df[\"pretty_formula\"].isin(needed_formulas)]\n",
    "# dataset_df.shape"
   ]
  },
  {
   "cell_type": "code",
   "execution_count": 5,
   "id": "795efa9f-a130-4203-8737-6a9b169c2f95",
   "metadata": {},
   "outputs": [],
   "source": [
    "dataset_df = filter_polymorphs(\n",
    "    dataset_df,\n",
    "    min_polymorphs=2,\n",
    "    min_energy=-5,\n",
    "    max_energy=5,\n",
    ")"
   ]
  },
  {
   "cell_type": "code",
   "execution_count": 6,
   "id": "e8b1e69b-8dd6-403e-8114-b1850a78548d",
   "metadata": {},
   "outputs": [],
   "source": [
    "min_energy_deltas = dataset_df.groupby(\"pretty_formula\")[\n",
    "    \"enthalpy_formation_cell\"\n",
    "].apply(lambda group: np.diff(np.sort(group)).max())\n",
    "\n",
    "energy_noise = 0.01"
   ]
  },
  {
   "cell_type": "code",
   "execution_count": 7,
   "id": "f3296a23-7772-4c1e-8c22-d48b37fcafe3",
   "metadata": {},
   "outputs": [],
   "source": [
    "low_energy_diff_groups = min_energy_deltas[min_energy_deltas < energy_noise].index\n",
    "dataset_df = dataset_df[\n",
    "    ~dataset_df[\"pretty_formula\"].isin(low_energy_diff_groups)\n",
    "].reset_index(drop=True)"
   ]
  },
  {
   "cell_type": "code",
   "execution_count": 8,
   "id": "a9efc03c-04a7-4fe9-a48f-40d275ddb71e",
   "metadata": {},
   "outputs": [
    {
     "name": "stdout",
     "output_type": "stream",
     "text": [
      "Train/test structures df size ratio : 2.95568\n",
      "Elements absolute difference: 0.05082\n"
     ]
    }
   ],
   "source": [
    "train_formulas, test_formulas = train_test_split_with_chemical_balance(\n",
    "    dataset_df, test_size=0.2, verbose=True\n",
    ")"
   ]
  },
  {
   "cell_type": "code",
   "execution_count": 9,
   "id": "9d2e9241-b165-4f53-9599-ef2444383d4c",
   "metadata": {},
   "outputs": [
    {
     "name": "stdout",
     "output_type": "stream",
     "text": [
      "shape before processing: (2877196, 19)\n",
      "shape after processing: (2244705, 19)\n"
     ]
    },
    {
     "name": "stderr",
     "output_type": "stream",
     "text": [
      "Converting lattice: 100%|█████████████████████████████████████████████████████████████████████████████████████████████████████████████████████████████████████████| 1628389/1628389 [03:21<00:00, 8074.86it/s]\n",
      "Converting lattice: 100%|███████████████████████████████████████████████████████████████████████████████████████████████████████████████████████████████████████████| 616316/616316 [01:15<00:00, 8154.67it/s]\n"
     ]
    }
   ],
   "source": [
    "test_dataset, train_dataset, test_dataloader, train_dataloader = get_balanced_dataloaders_pairs(\n",
    "    dataset_df,\n",
    "    train_formulas=train_formulas,\n",
    "    test_formulas=test_formulas,\n",
    "    num_workers=4,\n",
    "    avg_pairs_per_group=(1, 1),\n",
    "    sampling_strategy=\"train_good_nsites_balaned\",\n",
    "    top_k_good=2,\n",
    "    apply_energy_noising=False,\n",
    ")"
   ]
  },
  {
   "cell_type": "markdown",
   "id": "7eb3a456",
   "metadata": {
    "tags": []
   },
   "source": [
    "### Model training"
   ]
  },
  {
   "cell_type": "code",
   "execution_count": 19,
   "id": "73a39f94",
   "metadata": {
    "tags": []
   },
   "outputs": [],
   "source": [
    "model = CrystalUNetModelX0Condition(\n",
    "    in_channels=3, # should be equal to num_features (input features) (atomic coordinares)\n",
    "    dims=1, #this states, that we are using 1D U-Net\n",
    "    condition_dims=1 + 256 + 256 + 256, # num_condition_features 256 - is size of elements condition\n",
    "    model_channels=config.model_channels, # inner model features\n",
    "    out_channels=3, # should be equal to num_features (input features) (atomic coordinares)\n",
    "    num_res_blocks=config.num_res_blocks,\n",
    "    attention_resolutions=config.attention_resolutions\n",
    ")\n",
    "\n",
    "model.to(config.device)\n",
    "\n",
    "optimizer = torch.optim.Adam(model.parameters(), lr=config.learning_rate)\n",
    "\n",
    "total_steps = int(len(train_dataloader) * config.epochs)\n",
    "scheduler = get_cosine_schedule_with_warmup(optimizer, \n",
    "                                    num_warmup_steps = config.lr_warmup_steps, # Default value in run_glue.py\n",
    "                                    num_training_steps = total_steps)"
   ]
  },
  {
   "cell_type": "code",
   "execution_count": 11,
   "id": "2127d37e-e67b-40c5-8b7b-000a64e082a8",
   "metadata": {},
   "outputs": [
    {
     "name": "stderr",
     "output_type": "stream",
     "text": [
      "Detected kernel version 5.4.0, which is below the recommended minimum of 5.5.0; this can cause the process to hang. It is recommended to upgrade the kernel to the minimum version or higher.\n"
     ]
    }
   ],
   "source": [
    "from accelerate import Accelerator\n",
    "\n",
    "accelerator = Accelerator(\n",
    "    mixed_precision=config.mixed_precision,\n",
    "    gradient_accumulation_steps=config.gradient_accumulation_steps, \n",
    ")\n",
    "\n",
    "train_dataloader, test_dataloader, model, optimizer, scheduler = accelerator.prepare(\n",
    "    train_dataloader, test_dataloader, model, optimizer, scheduler\n",
    ")"
   ]
  },
  {
   "cell_type": "code",
   "execution_count": 12,
   "id": "eace34b7-7c90-4f94-821b-01390035c5c5",
   "metadata": {},
   "outputs": [
    {
     "data": {
      "text/plain": [
       "1000"
      ]
     },
     "execution_count": 12,
     "metadata": {},
     "output_type": "execute_result"
    }
   ],
   "source": [
    "config.num_train_timesteps"
   ]
  },
  {
   "cell_type": "code",
   "execution_count": 13,
   "id": "65d6dd95-0b2d-43ad-a2a9-46ebeebc8e6b",
   "metadata": {},
   "outputs": [
    {
     "data": {
      "text/plain": [
       "DDPMScheduler {\n",
       "  \"_class_name\": \"DDPMScheduler\",\n",
       "  \"_diffusers_version\": \"0.23.1\",\n",
       "  \"beta_end\": 0.02,\n",
       "  \"beta_schedule\": \"squaredcos_cap_v2\",\n",
       "  \"beta_start\": 0.0001,\n",
       "  \"clip_sample\": false,\n",
       "  \"clip_sample_range\": 1.0,\n",
       "  \"dynamic_thresholding_ratio\": 0.995,\n",
       "  \"num_train_timesteps\": 1000,\n",
       "  \"prediction_type\": \"epsilon\",\n",
       "  \"sample_max_value\": 1.0,\n",
       "  \"steps_offset\": 0,\n",
       "  \"thresholding\": false,\n",
       "  \"timestep_spacing\": \"leading\",\n",
       "  \"trained_betas\": null,\n",
       "  \"variance_type\": \"fixed_small\"\n",
       "}"
      ]
     },
     "execution_count": 13,
     "metadata": {},
     "output_type": "execute_result"
    }
   ],
   "source": [
    "ddpm_scheduler = DDPMScheduler(\n",
    "    num_train_timesteps=config.num_train_timesteps,\n",
    "    beta_start=config.beta_start,\n",
    "    beta_end=config.beta_end,\n",
    "    beta_schedule=config.beta_schedule,\n",
    "    clip_sample=False,\n",
    "\n",
    ")\n",
    "ddpm_scheduler.set_timesteps(\n",
    "    num_inference_steps=config.num_inference_steps\n",
    ")\n",
    "\n",
    "ddpm_scheduler"
   ]
  },
  {
   "cell_type": "code",
   "execution_count": null,
   "id": "633997af",
   "metadata": {
    "tags": []
   },
   "outputs": [],
   "source": [
    "train(\n",
    "    model=model,\n",
    "    optimizer=optimizer,\n",
    "    noise_scheduler=ddpm_scheduler,\n",
    "    loss_function=diffusion_modification_loss,\n",
    "    metric_function=l1_loss,\n",
    "    comparator=PymatgenComparator(elm_str_path='../src/data/element.pkl'),\n",
    "    coords_loss_coef=config.coords_loss_coef,\n",
    "    lattice_loss_coef=config.lattice_loss_coef,\n",
    "    epochs=config.epochs,\n",
    "    train_dataloader=train_dataloader,\n",
    "    eval_dataloader=test_dataloader,\n",
    "    scheduler=scheduler,\n",
    "    accelerator=accelerator,\n",
    "    lattice_size=3,\n",
    "    device=config.device,\n",
    "    eval_every_n=5,\n",
    ")"
   ]
  },
  {
   "cell_type": "code",
   "execution_count": null,
   "id": "11e66d7a-337f-445f-9e29-edc427801736",
   "metadata": {},
   "outputs": [],
   "source": []
  }
 ],
 "metadata": {
  "kernelspec": {
   "display_name": "Python 3 (ipykernel)",
   "language": "python",
   "name": "python3"
  },
  "language_info": {
   "codemirror_mode": {
    "name": "ipython",
    "version": 3
   },
   "file_extension": ".py",
   "mimetype": "text/x-python",
   "name": "python",
   "nbconvert_exporter": "python",
   "pygments_lexer": "ipython3",
   "version": "3.11.5"
  }
 },
 "nbformat": 4,
 "nbformat_minor": 5
}
