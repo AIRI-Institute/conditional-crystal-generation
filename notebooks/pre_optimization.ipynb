{
 "cells": [
  {
   "cell_type": "markdown",
   "id": "0979a2a0-0f34-4e38-aa2e-6d7623544a64",
   "metadata": {},
   "source": [
    "This notebook is designed for pre-iptimization of generated structures"
   ]
  },
  {
   "cell_type": "code",
   "execution_count": null,
   "id": "270e45a4-8ae8-4d28-9e6e-6c1818c44fe2",
   "metadata": {},
   "outputs": [],
   "source": [
    "import numpy as np\n",
    "import pandas as pd\n",
    "import matplotlib.pyplot as plt\n",
    "\n",
    "from pymatgen.core.structure import Structure\n",
    "from pymatgen.analysis.structure_matcher import StructureMatcher\n",
    "from IPython.display import clear_output\n",
    "from tqdm.notebook import tqdm"
   ]
  },
  {
   "cell_type": "code",
   "execution_count": null,
   "id": "51f577fb-331a-4dc9-a0ef-e06a78df49d3",
   "metadata": {},
   "outputs": [],
   "source": [
    "name = \"<name of .csv file with generated structured. The file is obtained from one of *_inference.ipynb notebooks>\"\n",
    "dataframe = pd.read_csv(name)"
   ]
  },
  {
   "cell_type": "markdown",
   "id": "f0de0d2d-8c90-4a3f-8c08-e5d06295df6b",
   "metadata": {},
   "source": [
    "Creation of array with structures"
   ]
  },
  {
   "cell_type": "code",
   "execution_count": null,
   "id": "84c14695-ffa1-4df7-b76b-6bfa204f8495",
   "metadata": {
    "scrolled": true
   },
   "outputs": [],
   "source": [
    "structures_array = []\n",
    "structures_indexes = []\n",
    "num_none = 0\n",
    "for i in range(dataframe.shape[0]):\n",
    "    try:\n",
    "        structures_array.append(Structure.from_str(dataframe.iloc[i]['cif'], fmt='cif'))\n",
    "        structures_indexes.append(i)\n",
    "    except:\n",
    "        # structures_array.append(None)\n",
    "        num_none += 1\n",
    "clear_output()\n",
    "num_none"
   ]
  },
  {
   "cell_type": "markdown",
   "id": "6939301f-ff6d-4e84-869a-7f431104c727",
   "metadata": {},
   "source": [
    "Structures optimization with Pymatgen"
   ]
  },
  {
   "cell_type": "code",
   "execution_count": null,
   "id": "b6eaab5e-016c-4cf4-9e59-84de01b4e51a",
   "metadata": {
    "scrolled": true
   },
   "outputs": [],
   "source": [
    "cif_array = []\n",
    "mask = []\n",
    "\n",
    "for structure in tqdm(structures_array):\n",
    "    if structure.volume < 1:\n",
    "        mask.append(False)\n",
    "        cif_array.append(None)\n",
    "        continue\n",
    "    cif_array.append(\n",
    "        structure.relax(\n",
    "            calculator = 'm3gnet', \n",
    "            relax_cell = False, \n",
    "            stress_weight = 0.005, \n",
    "            steps = 500, \n",
    "            fmax = 0.05, \n",
    "            verbose = False\n",
    "        ).to(fmt='cif')\n",
    "    )\n",
    "    mask.append(True)\n",
    "mask = np.array(mask)"
   ]
  },
  {
   "cell_type": "code",
   "execution_count": null,
   "id": "1b516fda-6c87-4237-b619-c3e1d38a3786",
   "metadata": {},
   "outputs": [],
   "source": [
    "dataframe[\"relaxed_cif\"] = cif_array\n",
    "print(dataframe[mask].shape)\n",
    "dataframe[mask].to_csv(name, index=False)"
   ]
  }
 ],
 "metadata": {
  "kernelspec": {
   "display_name": "ftcp",
   "language": "python",
   "name": "ftcp"
  },
  "language_info": {
   "codemirror_mode": {
    "name": "ipython",
    "version": 3
   },
   "file_extension": ".py",
   "mimetype": "text/x-python",
   "name": "python",
   "nbconvert_exporter": "python",
   "pygments_lexer": "ipython3",
   "version": "3.11.9"
  }
 },
 "nbformat": 4,
 "nbformat_minor": 5
}
